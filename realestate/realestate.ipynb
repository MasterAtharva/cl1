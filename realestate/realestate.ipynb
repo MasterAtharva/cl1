{
 "cells": [
  {
   "cell_type": "code",
   "execution_count": 57,
   "id": "c20fd935-31de-4dfb-8d4f-9ae5c1e2206e",
   "metadata": {},
   "outputs": [],
   "source": [
    "import pandas as pd \n",
    "from sklearn.preprocessing import LabelEncoder\n",
    "df = pd.read_csv(\"RealEstate_Prices.csv\")"
   ]
  },
  {
   "cell_type": "code",
   "execution_count": 59,
   "id": "cdce2ea6-ce18-4a92-a0cf-98becfc62b2f",
   "metadata": {},
   "outputs": [
    {
     "name": "stderr",
     "output_type": "stream",
     "text": [
      "C:\\Users\\athar\\AppData\\Local\\Temp\\ipykernel_6876\\784952501.py:9: FutureWarning: A value is trying to be set on a copy of a DataFrame or Series through chained assignment using an inplace method.\n",
      "The behavior will change in pandas 3.0. This inplace method will never work because the intermediate object on which we are setting values always behaves as a copy.\n",
      "\n",
      "For example, when doing 'df[col].method(value, inplace=True)', try using 'df.method({col: value}, inplace=True)' or df[col] = df[col].method(value) instead, to perform the operation inplace on the original object.\n",
      "\n",
      "\n",
      "  df['Year_Built'].fillna(df['Year_Built'].median(), inplace=True)\n"
     ]
    }
   ],
   "source": [
    "# Step 1: Clean column names\n",
    "df.columns = df.columns.str.replace(' ', '_').str.replace('[^A-Za-z0-9_]', '', regex=True)\n",
    "\n",
    "# Step 2: Handle missing values\n",
    "# Option 1: Drop rows with missing 'Sale_Price' (assuming it's essential for analysis)\n",
    "df = df.dropna(subset=['Sale_Price'])\n",
    "\n",
    "# Option 2: Impute missing values in 'Year_Built' with the median year\n",
    "df['Year_Built'].fillna(df['Year_Built'].median(), inplace=True)\n",
    "\n",
    "# Step 4: Filter and subset the data (example: properties in 'Downtown' and built after 2000)\n",
    "filtered_df = df[(df['Location'] == 'Downtown') & (df['Year_Built'] > 2000)]\n",
    "\n",
    "# Step 5: Handle categorical variables by encoding\n",
    "# Label Encoding for 'Property_Type'\n",
    "label_encoder = LabelEncoder()\n",
    "df['Property_Type_Encoded'] = label_encoder.fit_transform(df['Property_Type'])\n",
    "\n",
    "# One-Hot Encoding for 'Neighborhood'\n",
    "df = pd.get_dummies(df, columns=['Neighborhood'], drop_first=True)\n",
    "\n",
    "# Step 6: Aggregate data for summary statistics (e.g., average sale price by property type)\n",
    "average_price_by_property_type = df.groupby('Property_Type')['Sale_Price'].mean().reset_index()"
   ]
  },
  {
   "cell_type": "code",
   "execution_count": 61,
   "id": "a56a21c2-8b74-43ab-83d2-255089984a0f",
   "metadata": {},
   "outputs": [],
   "source": [
    "# Step 7: Identify and handle outliers in 'Sale_Price' using IQR\n",
    "Q1 = df['Sale_Price'].quantile(0.25)\n",
    "Q3 = df['Sale_Price'].quantile(0.75)\n",
    "IQR = Q3 - Q1\n",
    "df_no_outliers = df[(df['Sale_Price'] >= (Q1 - 1.5 * IQR)) & (df['Sale_Price'] <= (Q3 + 1.5 * IQR))]"
   ]
  },
  {
   "cell_type": "code",
   "execution_count": 63,
   "id": "fe254542-4681-41d7-b2d6-73d37e31dd36",
   "metadata": {},
   "outputs": [
    {
     "data": {
      "text/plain": [
       "(   Property_ID Property_Type  Location  Bedrooms  Bathrooms  Square_Feet  \\\n",
       " 0            1         House  Downtown         2          3         1148   \n",
       " 1            2     Apartment    Suburb         5          1         2663   \n",
       " 3            4         House     Rural         4          3         2721   \n",
       " 4            5     Apartment  Downtown         2          1         2780   \n",
       " 5            6         Condo    Suburb         3          1         2140   \n",
       " \n",
       "    Year_Built  Sale_Price  Amenities_Distance_Miles  Property_Type_Encoded  \\\n",
       " 0      2009.0    807870.0                  4.745561                      2   \n",
       " 1      2019.0    776389.0                  1.453618                      0   \n",
       " 3      2001.0    186148.0                  0.141468                      2   \n",
       " 4      2009.0    405378.0                  0.305964                      0   \n",
       " 5      1993.0    299448.0                  3.502366                      1   \n",
       " \n",
       "    Neighborhood_Neighborhood B  Neighborhood_Neighborhood C  \n",
       " 0                        False                        False  \n",
       " 1                        False                         True  \n",
       " 3                        False                         True  \n",
       " 4                         True                        False  \n",
       " 5                        False                        False  ,\n",
       "     Property_ID Property_Type  Location  Bedrooms  Bathrooms  Square_Feet  \\\n",
       " 0             1         House  Downtown         2          3         1148   \n",
       " 4             5     Apartment  Downtown         2          1         2780   \n",
       " 9            10         House  Downtown         3          3         1375   \n",
       " 11           12     Apartment  Downtown         3          1         1697   \n",
       " 15           16     Apartment  Downtown         3          3         1938   \n",
       " \n",
       "     Year_Built  Sale_Price    Neighborhood  Amenities_Distance_Miles  \n",
       " 0       2009.0    807870.0  Neighborhood A                  4.745561  \n",
       " 4       2009.0    405378.0  Neighborhood B                  0.305964  \n",
       " 9       2003.0    381195.0  Neighborhood A                  3.550650  \n",
       " 11      2009.0    808658.0  Neighborhood C                  2.967904  \n",
       " 15      2001.0    780931.0  Neighborhood C                  1.068397  ,\n",
       "   Property_Type     Sale_Price\n",
       " 0     Apartment  648336.285714\n",
       " 1         Condo  564135.714286\n",
       " 2         House  505669.529412,\n",
       "           Sale_Price\n",
       " count      90.000000\n",
       " mean   568244.222222\n",
       " std    257952.863680\n",
       " min    105724.000000\n",
       " 25%    376502.250000\n",
       " 50%    569436.500000\n",
       " 75%    791527.000000\n",
       " max    990374.000000)"
      ]
     },
     "execution_count": 63,
     "metadata": {},
     "output_type": "execute_result"
    }
   ],
   "source": [
    "# Display the processed data and summary statistics\n",
    "df.head(), filtered_df.head(), average_price_by_property_type, df_no_outliers[['Sale_Price']].describe()"
   ]
  },
  {
   "cell_type": "code",
   "execution_count": null,
   "id": "23b132dc-930f-476b-b987-a06ec9adb397",
   "metadata": {},
   "outputs": [],
   "source": []
  }
 ],
 "metadata": {
  "kernelspec": {
   "display_name": "Python 3 (ipykernel)",
   "language": "python",
   "name": "python3"
  },
  "language_info": {
   "codemirror_mode": {
    "name": "ipython",
    "version": 3
   },
   "file_extension": ".py",
   "mimetype": "text/x-python",
   "name": "python",
   "nbconvert_exporter": "python",
   "pygments_lexer": "ipython3",
   "version": "3.12.7"
  }
 },
 "nbformat": 4,
 "nbformat_minor": 5
}
